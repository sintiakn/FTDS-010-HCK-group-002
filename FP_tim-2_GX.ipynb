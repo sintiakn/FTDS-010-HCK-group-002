{
 "cells": [
  {
   "cell_type": "markdown",
   "metadata": {},
   "source": [
    "=======================================================================================================================================================\n",
    "\n",
    "Final Project\n",
    "\n",
    "Nama  : Tim 2 (Achmad Nauvaldi, Rizqia Dewi Annisa, Sinthiya Kusuma Nagari, Trielianto Stanislaus Kanopi)\n",
    "\n",
    "Batch : FTDS HCK-010\n",
    "\n",
    "Program ini dibuat untuk melakukan automatisasi transform dan load data dari PostgreSQL ke ElasticSearch. Adapun dataset yang dipakai adalah dataset hasil scrapping stockbit Kompas100 dari tahun 2021 - 2023.\n",
    "\n",
    "========================================================================================================================================================"
   ]
  },
  {
   "cell_type": "code",
   "execution_count": 19,
   "metadata": {},
   "outputs": [],
   "source": [
    "from sklearn.preprocessing import LabelEncoder"
   ]
  },
  {
   "cell_type": "code",
   "execution_count": 20,
   "metadata": {},
   "outputs": [],
   "source": [
    "# import libraries\n",
    "import great_expectations as gx\n",
    "import pandas as pd\n",
    "from great_expectations.checkpoint import Checkpoint"
   ]
  },
  {
   "cell_type": "code",
   "execution_count": 21,
   "metadata": {},
   "outputs": [],
   "source": [
    "# mendefine environmet mengambil context di environtment gx\n",
    "context = gx.get_context()"
   ]
  },
  {
   "cell_type": "code",
   "execution_count": 22,
   "metadata": {},
   "outputs": [],
   "source": [
    "# mendefine datasource\n",
    "datasource = context.sources.add_pandas(name=\"datasource1\")"
   ]
  },
  {
   "cell_type": "code",
   "execution_count": 23,
   "metadata": {},
   "outputs": [
    {
     "data": {
      "text/html": [
       "<div>\n",
       "<style scoped>\n",
       "    .dataframe tbody tr th:only-of-type {\n",
       "        vertical-align: middle;\n",
       "    }\n",
       "\n",
       "    .dataframe tbody tr th {\n",
       "        vertical-align: top;\n",
       "    }\n",
       "\n",
       "    .dataframe thead th {\n",
       "        text-align: right;\n",
       "    }\n",
       "</style>\n",
       "<table border=\"1\" class=\"dataframe\">\n",
       "  <thead>\n",
       "    <tr style=\"text-align: right;\">\n",
       "      <th></th>\n",
       "      <th>Unnamed: 0</th>\n",
       "      <th>company_id</th>\n",
       "      <th>mean_share_outstanding</th>\n",
       "      <th>mean_eps</th>\n",
       "      <th>mean_pe_ratio</th>\n",
       "      <th>mean_price_to_sales</th>\n",
       "      <th>mean_ebitda</th>\n",
       "      <th>mean_return_on_assets</th>\n",
       "      <th>mean_return_on_equity</th>\n",
       "      <th>mean_return_on_capital_employed</th>\n",
       "      <th>mean_interest_coverage</th>\n",
       "      <th>one_week</th>\n",
       "      <th>three_month</th>\n",
       "      <th>one_month</th>\n",
       "      <th>six_month</th>\n",
       "      <th>one_year</th>\n",
       "      <th>three_year</th>\n",
       "      <th>cluster</th>\n",
       "      <th>price</th>\n",
       "    </tr>\n",
       "  </thead>\n",
       "  <tbody>\n",
       "    <tr>\n",
       "      <th>0</th>\n",
       "      <td>0</td>\n",
       "      <td>0</td>\n",
       "      <td>1.920000e+09</td>\n",
       "      <td>212.479091</td>\n",
       "      <td>53.521818</td>\n",
       "      <td>3.116364</td>\n",
       "      <td>9.314536e+11</td>\n",
       "      <td>0.013664</td>\n",
       "      <td>0.019727</td>\n",
       "      <td>0.023236</td>\n",
       "      <td>6.880909</td>\n",
       "      <td>0.0070</td>\n",
       "      <td>-0.0271</td>\n",
       "      <td>0.000141</td>\n",
       "      <td>-0.0860</td>\n",
       "      <td>-0.1031</td>\n",
       "      <td>-0.4481</td>\n",
       "      <td>1</td>\n",
       "      <td>7125</td>\n",
       "    </tr>\n",
       "    <tr>\n",
       "      <th>1</th>\n",
       "      <td>1</td>\n",
       "      <td>1</td>\n",
       "      <td>1.715000e+10</td>\n",
       "      <td>9.830000</td>\n",
       "      <td>133.418182</td>\n",
       "      <td>9.475455</td>\n",
       "      <td>3.324882e+11</td>\n",
       "      <td>0.022945</td>\n",
       "      <td>0.030200</td>\n",
       "      <td>0.033509</td>\n",
       "      <td>16.742727</td>\n",
       "      <td>0.0769</td>\n",
       "      <td>-0.0128</td>\n",
       "      <td>0.001079</td>\n",
       "      <td>0.0845</td>\n",
       "      <td>0.5975</td>\n",
       "      <td>-0.5722</td>\n",
       "      <td>0</td>\n",
       "      <td>765</td>\n",
       "    </tr>\n",
       "    <tr>\n",
       "      <th>2</th>\n",
       "      <td>2</td>\n",
       "      <td>2</td>\n",
       "      <td>5.323636e+09</td>\n",
       "      <td>2.850909</td>\n",
       "      <td>627.220909</td>\n",
       "      <td>1.078182</td>\n",
       "      <td>3.662627e+11</td>\n",
       "      <td>0.000364</td>\n",
       "      <td>0.002145</td>\n",
       "      <td>0.027555</td>\n",
       "      <td>1.543636</td>\n",
       "      <td>-0.0189</td>\n",
       "      <td>-0.3276</td>\n",
       "      <td>-0.001086</td>\n",
       "      <td>-0.3128</td>\n",
       "      <td>-0.2500</td>\n",
       "      <td>-0.8102</td>\n",
       "      <td>2</td>\n",
       "      <td>308</td>\n",
       "    </tr>\n",
       "    <tr>\n",
       "      <th>3</th>\n",
       "      <td>3</td>\n",
       "      <td>3</td>\n",
       "      <td>3.199000e+10</td>\n",
       "      <td>202.015455</td>\n",
       "      <td>15.985455</td>\n",
       "      <td>3.502727</td>\n",
       "      <td>1.201746e+13</td>\n",
       "      <td>0.048191</td>\n",
       "      <td>0.081745</td>\n",
       "      <td>0.095600</td>\n",
       "      <td>30.070000</td>\n",
       "      <td>0.0207</td>\n",
       "      <td>-0.1151</td>\n",
       "      <td>-0.000391</td>\n",
       "      <td>0.0165</td>\n",
       "      <td>-0.2166</td>\n",
       "      <td>0.7024</td>\n",
       "      <td>1</td>\n",
       "      <td>2430</td>\n",
       "    </tr>\n",
       "    <tr>\n",
       "      <th>4</th>\n",
       "      <td>4</td>\n",
       "      <td>4</td>\n",
       "      <td>2.314364e+10</td>\n",
       "      <td>-12.420000</td>\n",
       "      <td>1085.428182</td>\n",
       "      <td>68.581818</td>\n",
       "      <td>3.369000e+10</td>\n",
       "      <td>-0.014464</td>\n",
       "      <td>-0.110391</td>\n",
       "      <td>-0.012736</td>\n",
       "      <td>0.000000</td>\n",
       "      <td>-0.0061</td>\n",
       "      <td>0.1631</td>\n",
       "      <td>0.001233</td>\n",
       "      <td>-0.1961</td>\n",
       "      <td>-0.1183</td>\n",
       "      <td>-0.7264</td>\n",
       "      <td>2</td>\n",
       "      <td>328</td>\n",
       "    </tr>\n",
       "  </tbody>\n",
       "</table>\n",
       "</div>"
      ],
      "text/plain": [
       "   Unnamed: 0  company_id  mean_share_outstanding    mean_eps  mean_pe_ratio  \\\n",
       "0           0           0            1.920000e+09  212.479091      53.521818   \n",
       "1           1           1            1.715000e+10    9.830000     133.418182   \n",
       "2           2           2            5.323636e+09    2.850909     627.220909   \n",
       "3           3           3            3.199000e+10  202.015455      15.985455   \n",
       "4           4           4            2.314364e+10  -12.420000    1085.428182   \n",
       "\n",
       "   mean_price_to_sales   mean_ebitda  mean_return_on_assets  \\\n",
       "0             3.116364  9.314536e+11               0.013664   \n",
       "1             9.475455  3.324882e+11               0.022945   \n",
       "2             1.078182  3.662627e+11               0.000364   \n",
       "3             3.502727  1.201746e+13               0.048191   \n",
       "4            68.581818  3.369000e+10              -0.014464   \n",
       "\n",
       "   mean_return_on_equity  mean_return_on_capital_employed  \\\n",
       "0               0.019727                         0.023236   \n",
       "1               0.030200                         0.033509   \n",
       "2               0.002145                         0.027555   \n",
       "3               0.081745                         0.095600   \n",
       "4              -0.110391                        -0.012736   \n",
       "\n",
       "   mean_interest_coverage  one_week  three_month  one_month  six_month  \\\n",
       "0                6.880909    0.0070      -0.0271   0.000141    -0.0860   \n",
       "1               16.742727    0.0769      -0.0128   0.001079     0.0845   \n",
       "2                1.543636   -0.0189      -0.3276  -0.001086    -0.3128   \n",
       "3               30.070000    0.0207      -0.1151  -0.000391     0.0165   \n",
       "4                0.000000   -0.0061       0.1631   0.001233    -0.1961   \n",
       "\n",
       "   one_year  three_year  cluster  price  \n",
       "0   -0.1031     -0.4481        1   7125  \n",
       "1    0.5975     -0.5722        0    765  \n",
       "2   -0.2500     -0.8102        2    308  \n",
       "3   -0.2166      0.7024        1   2430  \n",
       "4   -0.1183     -0.7264        2    328  "
      ]
     },
     "execution_count": 23,
     "metadata": {},
     "output_type": "execute_result"
    }
   ],
   "source": [
    "# membaca data csv\n",
    "df=pd.read_csv('data\\FP_tim-2_data_clean.csv')\n",
    "df.head()"
   ]
  },
  {
   "cell_type": "code",
   "execution_count": 24,
   "metadata": {},
   "outputs": [
    {
     "name": "stdout",
     "output_type": "stream",
     "text": [
      "<class 'pandas.core.frame.DataFrame'>\n",
      "RangeIndex: 100 entries, 0 to 99\n",
      "Data columns (total 19 columns):\n",
      " #   Column                           Non-Null Count  Dtype  \n",
      "---  ------                           --------------  -----  \n",
      " 0   Unnamed: 0                       100 non-null    int64  \n",
      " 1   company_id                       100 non-null    int64  \n",
      " 2   mean_share_outstanding           100 non-null    float64\n",
      " 3   mean_eps                         100 non-null    float64\n",
      " 4   mean_pe_ratio                    100 non-null    float64\n",
      " 5   mean_price_to_sales              100 non-null    float64\n",
      " 6   mean_ebitda                      100 non-null    float64\n",
      " 7   mean_return_on_assets            100 non-null    float64\n",
      " 8   mean_return_on_equity            100 non-null    float64\n",
      " 9   mean_return_on_capital_employed  100 non-null    float64\n",
      " 10  mean_interest_coverage           100 non-null    float64\n",
      " 11  one_week                         100 non-null    float64\n",
      " 12  three_month                      100 non-null    float64\n",
      " 13  one_month                        100 non-null    float64\n",
      " 14  six_month                        100 non-null    float64\n",
      " 15  one_year                         100 non-null    float64\n",
      " 16  three_year                       100 non-null    float64\n",
      " 17  cluster                          100 non-null    int64  \n",
      " 18  price                            100 non-null    int64  \n",
      "dtypes: float64(15), int64(4)\n",
      "memory usage: 15.0 KB\n"
     ]
    }
   ],
   "source": [
    "df.info()"
   ]
  },
  {
   "cell_type": "code",
   "execution_count": 25,
   "metadata": {},
   "outputs": [],
   "source": [
    "#mendefine nama, data asset, dan my batch request\n",
    "name = \"Clustering\"\n",
    "data_asset = datasource.add_dataframe_asset(name=name)\n",
    "my_batch_request = data_asset.build_batch_request(dataframe=df)"
   ]
  },
  {
   "cell_type": "code",
   "execution_count": 26,
   "metadata": {},
   "outputs": [
    {
     "data": {
      "application/vnd.jupyter.widget-view+json": {
       "model_id": "977a4d2307a34b05b8256653b2660219",
       "version_major": 2,
       "version_minor": 0
      },
      "text/plain": [
       "Calculating Metrics:   0%|          | 0/1 [00:00<?, ?it/s]"
      ]
     },
     "metadata": {},
     "output_type": "display_data"
    },
    {
     "data": {
      "text/html": [
       "<div>\n",
       "<style scoped>\n",
       "    .dataframe tbody tr th:only-of-type {\n",
       "        vertical-align: middle;\n",
       "    }\n",
       "\n",
       "    .dataframe tbody tr th {\n",
       "        vertical-align: top;\n",
       "    }\n",
       "\n",
       "    .dataframe thead th {\n",
       "        text-align: right;\n",
       "    }\n",
       "</style>\n",
       "<table border=\"1\" class=\"dataframe\">\n",
       "  <thead>\n",
       "    <tr style=\"text-align: right;\">\n",
       "      <th></th>\n",
       "      <th>Unnamed: 0</th>\n",
       "      <th>company_id</th>\n",
       "      <th>mean_share_outstanding</th>\n",
       "      <th>mean_eps</th>\n",
       "      <th>mean_pe_ratio</th>\n",
       "      <th>mean_price_to_sales</th>\n",
       "      <th>mean_ebitda</th>\n",
       "      <th>mean_return_on_assets</th>\n",
       "      <th>mean_return_on_equity</th>\n",
       "      <th>mean_return_on_capital_employed</th>\n",
       "      <th>mean_interest_coverage</th>\n",
       "      <th>one_week</th>\n",
       "      <th>three_month</th>\n",
       "      <th>one_month</th>\n",
       "      <th>six_month</th>\n",
       "      <th>one_year</th>\n",
       "      <th>three_year</th>\n",
       "      <th>cluster</th>\n",
       "      <th>price</th>\n",
       "    </tr>\n",
       "  </thead>\n",
       "  <tbody>\n",
       "    <tr>\n",
       "      <th>0</th>\n",
       "      <td>0</td>\n",
       "      <td>0</td>\n",
       "      <td>1.920000e+09</td>\n",
       "      <td>212.479091</td>\n",
       "      <td>53.521818</td>\n",
       "      <td>3.116364</td>\n",
       "      <td>9.314536e+11</td>\n",
       "      <td>0.013664</td>\n",
       "      <td>0.019727</td>\n",
       "      <td>0.023236</td>\n",
       "      <td>6.880909</td>\n",
       "      <td>0.0070</td>\n",
       "      <td>-0.0271</td>\n",
       "      <td>0.000141</td>\n",
       "      <td>-0.0860</td>\n",
       "      <td>-0.1031</td>\n",
       "      <td>-0.4481</td>\n",
       "      <td>1</td>\n",
       "      <td>7125</td>\n",
       "    </tr>\n",
       "    <tr>\n",
       "      <th>1</th>\n",
       "      <td>1</td>\n",
       "      <td>1</td>\n",
       "      <td>1.715000e+10</td>\n",
       "      <td>9.830000</td>\n",
       "      <td>133.418182</td>\n",
       "      <td>9.475455</td>\n",
       "      <td>3.324882e+11</td>\n",
       "      <td>0.022945</td>\n",
       "      <td>0.030200</td>\n",
       "      <td>0.033509</td>\n",
       "      <td>16.742727</td>\n",
       "      <td>0.0769</td>\n",
       "      <td>-0.0128</td>\n",
       "      <td>0.001079</td>\n",
       "      <td>0.0845</td>\n",
       "      <td>0.5975</td>\n",
       "      <td>-0.5722</td>\n",
       "      <td>0</td>\n",
       "      <td>765</td>\n",
       "    </tr>\n",
       "    <tr>\n",
       "      <th>2</th>\n",
       "      <td>2</td>\n",
       "      <td>2</td>\n",
       "      <td>5.323636e+09</td>\n",
       "      <td>2.850909</td>\n",
       "      <td>627.220909</td>\n",
       "      <td>1.078182</td>\n",
       "      <td>3.662627e+11</td>\n",
       "      <td>0.000364</td>\n",
       "      <td>0.002145</td>\n",
       "      <td>0.027555</td>\n",
       "      <td>1.543636</td>\n",
       "      <td>-0.0189</td>\n",
       "      <td>-0.3276</td>\n",
       "      <td>-0.001086</td>\n",
       "      <td>-0.3128</td>\n",
       "      <td>-0.2500</td>\n",
       "      <td>-0.8102</td>\n",
       "      <td>2</td>\n",
       "      <td>308</td>\n",
       "    </tr>\n",
       "    <tr>\n",
       "      <th>3</th>\n",
       "      <td>3</td>\n",
       "      <td>3</td>\n",
       "      <td>3.199000e+10</td>\n",
       "      <td>202.015455</td>\n",
       "      <td>15.985455</td>\n",
       "      <td>3.502727</td>\n",
       "      <td>1.201746e+13</td>\n",
       "      <td>0.048191</td>\n",
       "      <td>0.081745</td>\n",
       "      <td>0.095600</td>\n",
       "      <td>30.070000</td>\n",
       "      <td>0.0207</td>\n",
       "      <td>-0.1151</td>\n",
       "      <td>-0.000391</td>\n",
       "      <td>0.0165</td>\n",
       "      <td>-0.2166</td>\n",
       "      <td>0.7024</td>\n",
       "      <td>1</td>\n",
       "      <td>2430</td>\n",
       "    </tr>\n",
       "    <tr>\n",
       "      <th>4</th>\n",
       "      <td>4</td>\n",
       "      <td>4</td>\n",
       "      <td>2.314364e+10</td>\n",
       "      <td>-12.420000</td>\n",
       "      <td>1085.428182</td>\n",
       "      <td>68.581818</td>\n",
       "      <td>3.369000e+10</td>\n",
       "      <td>-0.014464</td>\n",
       "      <td>-0.110391</td>\n",
       "      <td>-0.012736</td>\n",
       "      <td>0.000000</td>\n",
       "      <td>-0.0061</td>\n",
       "      <td>0.1631</td>\n",
       "      <td>0.001233</td>\n",
       "      <td>-0.1961</td>\n",
       "      <td>-0.1183</td>\n",
       "      <td>-0.7264</td>\n",
       "      <td>2</td>\n",
       "      <td>328</td>\n",
       "    </tr>\n",
       "  </tbody>\n",
       "</table>\n",
       "</div>"
      ],
      "text/plain": [
       "   Unnamed: 0  company_id  mean_share_outstanding    mean_eps  mean_pe_ratio  \\\n",
       "0           0           0            1.920000e+09  212.479091      53.521818   \n",
       "1           1           1            1.715000e+10    9.830000     133.418182   \n",
       "2           2           2            5.323636e+09    2.850909     627.220909   \n",
       "3           3           3            3.199000e+10  202.015455      15.985455   \n",
       "4           4           4            2.314364e+10  -12.420000    1085.428182   \n",
       "\n",
       "   mean_price_to_sales   mean_ebitda  mean_return_on_assets  \\\n",
       "0             3.116364  9.314536e+11               0.013664   \n",
       "1             9.475455  3.324882e+11               0.022945   \n",
       "2             1.078182  3.662627e+11               0.000364   \n",
       "3             3.502727  1.201746e+13               0.048191   \n",
       "4            68.581818  3.369000e+10              -0.014464   \n",
       "\n",
       "   mean_return_on_equity  mean_return_on_capital_employed  \\\n",
       "0               0.019727                         0.023236   \n",
       "1               0.030200                         0.033509   \n",
       "2               0.002145                         0.027555   \n",
       "3               0.081745                         0.095600   \n",
       "4              -0.110391                        -0.012736   \n",
       "\n",
       "   mean_interest_coverage  one_week  three_month  one_month  six_month  \\\n",
       "0                6.880909    0.0070      -0.0271   0.000141    -0.0860   \n",
       "1               16.742727    0.0769      -0.0128   0.001079     0.0845   \n",
       "2                1.543636   -0.0189      -0.3276  -0.001086    -0.3128   \n",
       "3               30.070000    0.0207      -0.1151  -0.000391     0.0165   \n",
       "4                0.000000   -0.0061       0.1631   0.001233    -0.1961   \n",
       "\n",
       "   one_year  three_year  cluster  price  \n",
       "0   -0.1031     -0.4481        1   7125  \n",
       "1    0.5975     -0.5722        0    765  \n",
       "2   -0.2500     -0.8102        2    308  \n",
       "3   -0.2166      0.7024        1   2430  \n",
       "4   -0.1183     -0.7264        2    328  "
      ]
     },
     "execution_count": 26,
     "metadata": {},
     "output_type": "execute_result"
    }
   ],
   "source": [
    "# Membuat expectation suite\n",
    "expectation_suite_name = 'expectation-clustering-dataset'\n",
    "context.add_or_update_expectation_suite(expectation_suite_name)\n",
    "\n",
    "# Membuat  validator menggunakan expectation suite di atas\n",
    "validator = context.get_validator(\n",
    "    batch_request = my_batch_request,\n",
    "    expectation_suite_name = expectation_suite_name\n",
    ")\n",
    "\n",
    "# Check tvalidator\n",
    "validator.head()"
   ]
  },
  {
   "cell_type": "code",
   "execution_count": 28,
   "metadata": {},
   "outputs": [
    {
     "data": {
      "application/vnd.jupyter.widget-view+json": {
       "model_id": "df59a37e269f4f2fa3a4e81e42ba91ee",
       "version_major": 2,
       "version_minor": 0
      },
      "text/plain": [
       "Calculating Metrics:   0%|          | 0/8 [00:00<?, ?it/s]"
      ]
     },
     "metadata": {},
     "output_type": "display_data"
    },
    {
     "data": {
      "text/plain": [
       "{\n",
       "  \"success\": true,\n",
       "  \"result\": {\n",
       "    \"element_count\": 100,\n",
       "    \"unexpected_count\": 0,\n",
       "    \"unexpected_percent\": 0.0,\n",
       "    \"partial_unexpected_list\": [],\n",
       "    \"missing_count\": 0,\n",
       "    \"missing_percent\": 0.0,\n",
       "    \"unexpected_percent_total\": 0.0,\n",
       "    \"unexpected_percent_nonmissing\": 0.0\n",
       "  },\n",
       "  \"meta\": {},\n",
       "  \"exception_info\": {\n",
       "    \"raised_exception\": false,\n",
       "    \"exception_traceback\": null,\n",
       "    \"exception_message\": null\n",
       "  }\n",
       "}"
      ]
     },
     "execution_count": 28,
     "metadata": {},
     "output_type": "execute_result"
    }
   ],
   "source": [
    "# Expectation 1 : Kolom `company_id` harus unik\n",
    "\n",
    "validator.expect_column_values_to_be_unique('company_id')"
   ]
  },
  {
   "cell_type": "code",
   "execution_count": 29,
   "metadata": {},
   "outputs": [
    {
     "data": {
      "application/vnd.jupyter.widget-view+json": {
       "model_id": "1cba71fe6af347329d6f56f7c333ac27",
       "version_major": 2,
       "version_minor": 0
      },
      "text/plain": [
       "Calculating Metrics:   0%|          | 0/8 [00:00<?, ?it/s]"
      ]
     },
     "metadata": {},
     "output_type": "display_data"
    },
    {
     "data": {
      "text/plain": [
       "{\n",
       "  \"success\": true,\n",
       "  \"result\": {\n",
       "    \"element_count\": 100,\n",
       "    \"unexpected_count\": 0,\n",
       "    \"unexpected_percent\": 0.0,\n",
       "    \"partial_unexpected_list\": [],\n",
       "    \"missing_count\": 0,\n",
       "    \"missing_percent\": 0.0,\n",
       "    \"unexpected_percent_total\": 0.0,\n",
       "    \"unexpected_percent_nonmissing\": 0.0\n",
       "  },\n",
       "  \"meta\": {},\n",
       "  \"exception_info\": {\n",
       "    \"raised_exception\": false,\n",
       "    \"exception_traceback\": null,\n",
       "    \"exception_message\": null\n",
       "  }\n",
       "}"
      ]
     },
     "execution_count": 29,
     "metadata": {},
     "output_type": "execute_result"
    }
   ],
   "source": [
    "# Expectation 2 : Column `cluster` memiliki 3 data unique (0,1, dan 2)\n",
    "\n",
    "validator.expect_column_values_to_be_between(\n",
    "    column='cluster', min_value=0, max_value=2\n",
    ")"
   ]
  },
  {
   "cell_type": "code",
   "execution_count": 33,
   "metadata": {},
   "outputs": [
    {
     "data": {
      "application/vnd.jupyter.widget-view+json": {
       "model_id": "200b01ac3bcd4bf0ac6f1697f4a5237b",
       "version_major": 2,
       "version_minor": 0
      },
      "text/plain": [
       "Calculating Metrics:   0%|          | 0/8 [00:00<?, ?it/s]"
      ]
     },
     "metadata": {},
     "output_type": "display_data"
    },
    {
     "data": {
      "text/plain": [
       "{\n",
       "  \"success\": false,\n",
       "  \"result\": {\n",
       "    \"element_count\": 100,\n",
       "    \"unexpected_count\": 100,\n",
       "    \"unexpected_percent\": 100.0,\n",
       "    \"partial_unexpected_list\": [\n",
       "      1,\n",
       "      0,\n",
       "      2,\n",
       "      1,\n",
       "      2,\n",
       "      0,\n",
       "      1,\n",
       "      2,\n",
       "      1,\n",
       "      2,\n",
       "      0,\n",
       "      2,\n",
       "      0,\n",
       "      0,\n",
       "      0,\n",
       "      0,\n",
       "      2,\n",
       "      0,\n",
       "      0,\n",
       "      2\n",
       "    ],\n",
       "    \"missing_count\": 0,\n",
       "    \"missing_percent\": 0.0,\n",
       "    \"unexpected_percent_total\": 100.0,\n",
       "    \"unexpected_percent_nonmissing\": 100.0\n",
       "  },\n",
       "  \"meta\": {},\n",
       "  \"exception_info\": {\n",
       "    \"raised_exception\": false,\n",
       "    \"exception_traceback\": null,\n",
       "    \"exception_message\": null\n",
       "  }\n",
       "}"
      ]
     },
     "execution_count": 33,
     "metadata": {},
     "output_type": "execute_result"
    }
   ],
   "source": [
    "# Expectation 3: Kolom cluster hanya bisa terisi dengan: \"0\" ,\"1\", \"2\"\n",
    "validator.expect_column_values_to_be_in_set(\"cluster\",[\"0\",\"1\",\"2\"])"
   ]
  },
  {
   "cell_type": "code",
   "execution_count": 30,
   "metadata": {},
   "outputs": [
    {
     "data": {
      "application/vnd.jupyter.widget-view+json": {
       "model_id": "cac6cf2dc25a4b49a0d3539a48384b48",
       "version_major": 2,
       "version_minor": 0
      },
      "text/plain": [
       "Calculating Metrics:   0%|          | 0/1 [00:00<?, ?it/s]"
      ]
     },
     "metadata": {},
     "output_type": "display_data"
    },
    {
     "data": {
      "text/plain": [
       "{\n",
       "  \"success\": true,\n",
       "  \"result\": {\n",
       "    \"observed_value\": \"int64\"\n",
       "  },\n",
       "  \"meta\": {},\n",
       "  \"exception_info\": {\n",
       "    \"raised_exception\": false,\n",
       "    \"exception_traceback\": null,\n",
       "    \"exception_message\": null\n",
       "  }\n",
       "}"
      ]
     },
     "execution_count": 30,
     "metadata": {},
     "output_type": "execute_result"
    }
   ],
   "source": [
    "# Expectation 4: Kolom sleep_in_hours harus memiliki tipe integer, tidak boleh bertipe object\n",
    "validator.expect_column_values_to_be_in_type_list('price', ['int64'])"
   ]
  },
  {
   "cell_type": "code",
   "execution_count": 34,
   "metadata": {},
   "outputs": [
    {
     "data": {
      "application/vnd.jupyter.widget-view+json": {
       "model_id": "77ee166ef0c24b1ab8c18efeee645d57",
       "version_major": 2,
       "version_minor": 0
      },
      "text/plain": [
       "Calculating Metrics:   0%|          | 0/9 [00:00<?, ?it/s]"
      ]
     },
     "metadata": {},
     "output_type": "display_data"
    },
    {
     "data": {
      "text/plain": [
       "{\n",
       "  \"success\": true,\n",
       "  \"result\": {\n",
       "    \"element_count\": 100,\n",
       "    \"unexpected_count\": 0,\n",
       "    \"unexpected_percent\": 0.0,\n",
       "    \"partial_unexpected_list\": [],\n",
       "    \"missing_count\": 0,\n",
       "    \"missing_percent\": 0.0,\n",
       "    \"unexpected_percent_total\": 0.0,\n",
       "    \"unexpected_percent_nonmissing\": 0.0\n",
       "  },\n",
       "  \"meta\": {},\n",
       "  \"exception_info\": {\n",
       "    \"raised_exception\": false,\n",
       "    \"exception_traceback\": null,\n",
       "    \"exception_message\": null\n",
       "  }\n",
       "}"
      ]
     },
     "execution_count": 34,
     "metadata": {},
     "output_type": "execute_result"
    }
   ],
   "source": [
    "# Expectation 5: Jumlah panjang karakter daru kolom id harus berjumlah 12\n",
    "validator.expect_column_value_lengths_to_equal(column='cluster', value=1)"
   ]
  },
  {
   "cell_type": "code",
   "execution_count": 32,
   "metadata": {},
   "outputs": [
    {
     "data": {
      "application/vnd.jupyter.widget-view+json": {
       "model_id": "95727bf78a9e44d79e9aa9d81d8be345",
       "version_major": 2,
       "version_minor": 0
      },
      "text/plain": [
       "Calculating Metrics:   0%|          | 0/7 [00:00<?, ?it/s]"
      ]
     },
     "metadata": {},
     "output_type": "display_data"
    },
    {
     "data": {
      "text/plain": [
       "{\n",
       "  \"success\": false,\n",
       "  \"result\": {\n",
       "    \"element_count\": 100,\n",
       "    \"unexpected_count\": 32,\n",
       "    \"unexpected_percent\": 32.0,\n",
       "    \"partial_unexpected_list\": [\n",
       "      [\n",
       "        0.0401636363636363,\n",
       "        0.0463454545454545\n",
       "      ],\n",
       "      [\n",
       "        0.0327090909090908,\n",
       "        0.0374181818181818\n",
       "      ],\n",
       "      [\n",
       "        0.0097636363636363,\n",
       "        0.0474636363636363\n",
       "      ],\n",
       "      [\n",
       "        0.0052272727272727,\n",
       "        0.0313636363636363\n",
       "      ],\n",
       "      [\n",
       "        0.0087,\n",
       "        0.0416363636363636\n",
       "      ],\n",
       "      [\n",
       "        0.0023363636363636,\n",
       "        0.030390909090909\n",
       "      ],\n",
       "      [\n",
       "        0.0048545454545454,\n",
       "        0.0147545454545454\n",
       "      ],\n",
       "      [\n",
       "        0.0039727272727272,\n",
       "        0.0387545454545454\n",
       "      ],\n",
       "      [\n",
       "        0.0047272727272727,\n",
       "        0.0346818181818181\n",
       "      ],\n",
       "      [\n",
       "        0.0074818181818181,\n",
       "        0.0464272727272727\n",
       "      ],\n",
       "      [\n",
       "        0.0052454545454545,\n",
       "        0.0288090909090909\n",
       "      ],\n",
       "      [\n",
       "        0.0026999999999999,\n",
       "        0.0130363636363636\n",
       "      ],\n",
       "      [\n",
       "        0.0144636363636363,\n",
       "        0.0152090909090909\n",
       "      ],\n",
       "      [\n",
       "        0.0055818181818181,\n",
       "        0.0202454545454545\n",
       "      ],\n",
       "      [\n",
       "        0.0366818181818181,\n",
       "        0.0393545454545454\n",
       "      ],\n",
       "      [\n",
       "        0.0325090909090909,\n",
       "        0.0455090909090909\n",
       "      ],\n",
       "      [\n",
       "        0.0323363636363636,\n",
       "        0.0373818181818181\n",
       "      ],\n",
       "      [\n",
       "        0.045990909090909,\n",
       "        0.063790909090909\n",
       "      ],\n",
       "      [\n",
       "        0.0162727272727272,\n",
       "        0.0396727272727272\n",
       "      ],\n",
       "      [\n",
       "        0.035690909090909,\n",
       "        0.0536090909090909\n",
       "      ]\n",
       "    ],\n",
       "    \"missing_count\": 0,\n",
       "    \"missing_percent\": 0.0,\n",
       "    \"unexpected_percent_total\": 32.0,\n",
       "    \"unexpected_percent_nonmissing\": 32.0\n",
       "  },\n",
       "  \"meta\": {},\n",
       "  \"exception_info\": {\n",
       "    \"raised_exception\": false,\n",
       "    \"exception_traceback\": null,\n",
       "    \"exception_message\": null\n",
       "  }\n",
       "}"
      ]
     },
     "execution_count": 32,
     "metadata": {},
     "output_type": "execute_result"
    }
   ],
   "source": [
    "# Expectation 6: nilai pada kolom total_cholesterol_value harus lebih besar dari hdl_cholesterol_value\n",
    "validator.expect_column_pair_values_a_to_be_greater_than_b(column_A=\"mean_return_on_capital_employed\", column_B=\"mean_return_on_equity\", or_equal=True)"
   ]
  },
  {
   "cell_type": "code",
   "execution_count": 31,
   "metadata": {},
   "outputs": [
    {
     "data": {
      "application/vnd.jupyter.widget-view+json": {
       "model_id": "c24b90fe52414d32bf15717ded291579",
       "version_major": 2,
       "version_minor": 0
      },
      "text/plain": [
       "Calculating Metrics:   0%|          | 0/6 [00:00<?, ?it/s]"
      ]
     },
     "metadata": {},
     "output_type": "display_data"
    },
    {
     "data": {
      "text/plain": [
       "{\n",
       "  \"success\": true,\n",
       "  \"result\": {\n",
       "    \"element_count\": 100,\n",
       "    \"unexpected_count\": 0,\n",
       "    \"unexpected_percent\": 0.0,\n",
       "    \"partial_unexpected_list\": []\n",
       "  },\n",
       "  \"meta\": {},\n",
       "  \"exception_info\": {\n",
       "    \"raised_exception\": false,\n",
       "    \"exception_traceback\": null,\n",
       "    \"exception_message\": null\n",
       "  }\n",
       "}"
      ]
     },
     "execution_count": 31,
     "metadata": {},
     "output_type": "execute_result"
    }
   ],
   "source": [
    "# Expectation 5: Column blood_pressure must have non-null values\n",
    "\n",
    "validator.expect_column_values_to_not_be_null('mean_share_outstanding')"
   ]
  },
  {
   "cell_type": "code",
   "execution_count": 35,
   "metadata": {},
   "outputs": [],
   "source": [
    "# Simpan ke Expectation Suite\n",
    "validator.save_expectation_suite(discard_failed_expectations=False)"
   ]
  },
  {
   "cell_type": "code",
   "execution_count": 36,
   "metadata": {},
   "outputs": [],
   "source": [
    "# Checkpoint\n",
    "checkpoint = context.add_or_update_checkpoint(\n",
    "    name='checkpoint',\n",
    "    validator=validator\n",
    ")"
   ]
  },
  {
   "cell_type": "code",
   "execution_count": 37,
   "metadata": {},
   "outputs": [
    {
     "data": {
      "application/vnd.jupyter.widget-view+json": {
       "model_id": "6e15ac45b2684f49b3f43a19788d0f6b",
       "version_major": 2,
       "version_minor": 0
      },
      "text/plain": [
       "Calculating Metrics:   0%|          | 0/39 [00:00<?, ?it/s]"
      ]
     },
     "metadata": {},
     "output_type": "display_data"
    }
   ],
   "source": [
    "# hasil cek point\n",
    "checkpoint_result = checkpoint.run()"
   ]
  },
  {
   "cell_type": "code",
   "execution_count": 38,
   "metadata": {},
   "outputs": [
    {
     "data": {
      "text/plain": [
       "{'local_site': 'file://C:\\\\Users\\\\RIZQIA~1\\\\AppData\\\\Local\\\\Temp\\\\tmphff16957\\\\index.html'}"
      ]
     },
     "execution_count": 38,
     "metadata": {},
     "output_type": "execute_result"
    }
   ],
   "source": [
    "# Membuat data docs\n",
    "context.build_data_docs()"
   ]
  },
  {
   "cell_type": "markdown",
   "metadata": {},
   "source": [
    "Apabila ingin melihat rincian keberhasilan untuk setiap expectation dapat menuju halaman berikut \n",
    "\n",
    "{'local_site': 'file://C:\\\\Users\\\\RIZQIA~1\\\\AppData\\\\Local\\\\Temp\\\\tmphff16957\\\\index.html'}"
   ]
  }
 ],
 "metadata": {
  "kernelspec": {
   "display_name": "Python 3",
   "language": "python",
   "name": "python3"
  },
  "language_info": {
   "codemirror_mode": {
    "name": "ipython",
    "version": 3
   },
   "file_extension": ".py",
   "mimetype": "text/x-python",
   "name": "python",
   "nbconvert_exporter": "python",
   "pygments_lexer": "ipython3",
   "version": "3.11.5"
  }
 },
 "nbformat": 4,
 "nbformat_minor": 2
}
